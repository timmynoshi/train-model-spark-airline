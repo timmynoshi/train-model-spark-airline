{
 "cells": [
  {
   "cell_type": "code",
   "id": "initial_id",
   "metadata": {
    "collapsed": true,
    "ExecuteTime": {
     "end_time": "2024-11-07T12:21:00.784371Z",
     "start_time": "2024-11-07T12:20:59.927025Z"
    }
   },
   "source": [
    "# Import các thư viện cần thiết\n",
    "from pyspark.sql import SparkSession\n",
    "from pyspark.ml.feature import StringIndexer, VectorAssembler\n",
    "from pyspark.ml.classification import (DecisionTreeClassifier,\n",
    "                                       RandomForestClassifier, \n",
    "                                       GBTClassifier)\n",
    "from pyspark.ml.evaluation import MulticlassClassificationEvaluator\n",
    "from hdfs import InsecureClient"
   ],
   "outputs": [],
   "execution_count": 1
  },
  {
   "metadata": {
    "ExecuteTime": {
     "end_time": "2024-11-07T12:21:10.980161Z",
     "start_time": "2024-11-07T12:21:00.794396Z"
    }
   },
   "cell_type": "code",
   "source": [
    "# Kết nối với HDFS và tạo Spark Session\n",
    "client = InsecureClient('http://localhost:9870', user='thanhtin')\n",
    "spark = (SparkSession.builder.appName(\"trainmodel_phanlop\")\n",
    "         .config(\"spark.hadoop.fs.defaultFS\", \"hdfs://localhost:9000\")\n",
    "         .getOrCreate())"
   ],
   "id": "b048566a0f855976",
   "outputs": [],
   "execution_count": 2
  },
  {
   "metadata": {
    "ExecuteTime": {
     "end_time": "2024-11-07T12:21:18.168483Z",
     "start_time": "2024-11-07T12:21:11.354584Z"
    }
   },
   "cell_type": "code",
   "source": [
    "# Đường dẫn file HDFS\n",
    "train_path = \"hdfs://localhost:9000/thanhtin/train-airline.csv\"\n",
    "test_path = \"hdfs://localhost:9000/thanhtin/test-airline.csv\"\n",
    "\n",
    "# Đọc file train và test từ HDFS vào DataFrame\n",
    "train_df = spark.read.csv(train_path, header=True, inferSchema=True)\n",
    "test_df = spark.read.csv(test_path, header=True, inferSchema=True)\n",
    "\n",
    "# Loại bỏ các giá trị null nếu có\n",
    "train_df = train_df.na.drop()\n",
    "test_df = test_df.na.drop()\n",
    "\n",
    "# Hiển thị một vài dòng dữ liệu để kiểm tra\n",
    "train_df.show(5)\n",
    "test_df.show(5)\n"
   ],
   "id": "49936d361eea4498",
   "outputs": [
    {
     "name": "stdout",
     "output_type": "stream",
     "text": [
      "+------+------+-----------------+---+---------------+--------+---------------+---------------------+---------------------------------+----------------------+-------------+--------------+---------------+------------+----------------------+----------------+----------------+----------------+---------------+----------------+-----------+--------------------------+------------------------+--------------------+\n",
      "|    id|Gender|    Customer Type|Age| Type of Travel|   Class|Flight Distance|Inflight wifi service|Departure/Arrival time convenient|Ease of Online booking|Gate location|Food and drink|Online boarding|Seat comfort|Inflight entertainment|On-board service|Leg room service|Baggage handling|Checkin service|Inflight service|Cleanliness|Departure Delay in Minutes|Arrival Delay in Minutes|        satisfaction|\n",
      "+------+------+-----------------+---+---------------+--------+---------------+---------------------+---------------------------------+----------------------+-------------+--------------+---------------+------------+----------------------+----------------+----------------+----------------+---------------+----------------+-----------+--------------------------+------------------------+--------------------+\n",
      "| 70172|  Male|   Loyal Customer| 13|Personal Travel|Eco Plus|            460|                    3|                                4|                     3|            1|             5|              3|           5|                     5|               4|               3|               4|              4|               5|          5|                        25|                      18|neutral or dissat...|\n",
      "|  5047|  Male|disloyal Customer| 25|Business travel|Business|            235|                    3|                                2|                     3|            3|             1|              3|           1|                     1|               1|               5|               3|              1|               4|          1|                         1|                       6|neutral or dissat...|\n",
      "|110028|Female|   Loyal Customer| 26|Business travel|Business|           1142|                    2|                                2|                     2|            2|             5|              5|           5|                     5|               4|               3|               4|              4|               4|          5|                         0|                       0|           satisfied|\n",
      "| 24026|Female|   Loyal Customer| 25|Business travel|Business|            562|                    2|                                5|                     5|            5|             2|              2|           2|                     2|               2|               5|               3|              1|               4|          2|                        11|                       9|neutral or dissat...|\n",
      "|119299|  Male|   Loyal Customer| 61|Business travel|Business|            214|                    3|                                3|                     3|            3|             4|              5|           5|                     3|               3|               4|               4|              3|               3|          3|                         0|                       0|           satisfied|\n",
      "+------+------+-----------------+---+---------------+--------+---------------+---------------------+---------------------------------+----------------------+-------------+--------------+---------------+------------+----------------------+----------------+----------------+----------------+---------------+----------------+-----------+--------------------------+------------------------+--------------------+\n",
      "only showing top 5 rows\n",
      "\n",
      "+-----+------+-----------------+---+---------------+--------+---------------+---------------------+---------------------------------+----------------------+-------------+--------------+---------------+------------+----------------------+----------------+----------------+----------------+---------------+----------------+-----------+--------------------------+------------------------+--------------------+\n",
      "|   id|Gender|    Customer Type|Age| Type of Travel|   Class|Flight Distance|Inflight wifi service|Departure/Arrival time convenient|Ease of Online booking|Gate location|Food and drink|Online boarding|Seat comfort|Inflight entertainment|On-board service|Leg room service|Baggage handling|Checkin service|Inflight service|Cleanliness|Departure Delay in Minutes|Arrival Delay in Minutes|        satisfaction|\n",
      "+-----+------+-----------------+---+---------------+--------+---------------+---------------------+---------------------------------+----------------------+-------------+--------------+---------------+------------+----------------------+----------------+----------------+----------------+---------------+----------------+-----------+--------------------------+------------------------+--------------------+\n",
      "|19556|Female|   Loyal Customer| 52|Business travel|     Eco|            160|                    5|                                4|                     3|            4|             3|              4|           3|                     5|               5|               5|               5|              2|               5|          5|                        50|                      44|           satisfied|\n",
      "|90035|Female|   Loyal Customer| 36|Business travel|Business|           2863|                    1|                                1|                     3|            1|             5|              4|           5|                     4|               4|               4|               4|              3|               4|          5|                         0|                       0|           satisfied|\n",
      "|12360|  Male|disloyal Customer| 20|Business travel|     Eco|            192|                    2|                                0|                     2|            4|             2|              2|           2|                     2|               4|               1|               3|              2|               2|          2|                         0|                       0|neutral or dissat...|\n",
      "|77959|  Male|   Loyal Customer| 44|Business travel|Business|           3377|                    0|                                0|                     0|            2|             3|              4|           4|                     1|               1|               1|               1|              3|               1|          4|                         0|                       6|           satisfied|\n",
      "|36875|Female|   Loyal Customer| 49|Business travel|     Eco|           1182|                    2|                                3|                     4|            3|             4|              1|           2|                     2|               2|               2|               2|              4|               2|          4|                         0|                      20|           satisfied|\n",
      "+-----+------+-----------------+---+---------------+--------+---------------+---------------------+---------------------------------+----------------------+-------------+--------------+---------------+------------+----------------------+----------------+----------------+----------------+---------------+----------------+-----------+--------------------------+------------------------+--------------------+\n",
      "only showing top 5 rows\n",
      "\n"
     ]
    }
   ],
   "execution_count": 3
  },
  {
   "metadata": {
    "ExecuteTime": {
     "end_time": "2024-11-07T12:21:21.241109Z",
     "start_time": "2024-11-07T12:21:18.193314Z"
    }
   },
   "cell_type": "code",
   "source": [
    "# Mã hóa các cột chuỗi thành dạng số bằng StringIndexer\n",
    "indexers = [\n",
    "    StringIndexer(inputCol=column, outputCol=column + \"_index\").fit(train_df)\n",
    "    for column in [\"Gender\", \"Customer Type\", \"Type of Travel\", \"Class\"]\n",
    "]\n",
    "\n",
    "for indexer in indexers:\n",
    "    train_df = indexer.transform(train_df)\n",
    "    test_df = indexer.transform(test_df)\n",
    "\n",
    "# Cập nhật danh sách các cột đặc trưng sau khi thêm các cột đã được mã hóa\n",
    "feature_columns = [\"Age\", \"Flight Distance\", \"Inflight wifi service\", \"Departure/Arrival time convenient\",\n",
    "                   \"Ease of Online booking\", \"Gate location\", \"Food and drink\", \"Online boarding\", \n",
    "                   \"Seat comfort\", \"Inflight entertainment\", \"On-board service\", \"Leg room service\", \n",
    "                   \"Baggage handling\", \"Checkin service\", \"Inflight service\", \"Cleanliness\", \n",
    "                   \"Departure Delay in Minutes\", \"Arrival Delay in Minutes\", \n",
    "                   \"Gender_index\", \"Customer Type_index\", \"Type of Travel_index\", \"Class_index\"]\n",
    "\n",
    "# Tạo cột 'features' với VectorAssembler\n",
    "assembler = VectorAssembler(inputCols=feature_columns, outputCol=\"features\")\n",
    "train_df = assembler.transform(train_df)\n",
    "test_df = assembler.transform(test_df)\n",
    "\n",
    "# Chuyển cột 'satisfaction' thành nhãn số (label) chỉ trên tập train, sau đó dùng lại cho test\n",
    "satisfaction_indexer = StringIndexer(inputCol=\"satisfaction\", outputCol=\"label\").fit(train_df)\n",
    "train_df = satisfaction_indexer.transform(train_df)\n",
    "test_df = satisfaction_indexer.transform(test_df)\n",
    "\n",
    "# Chia dữ liệu train thành tập train và tập validation\n",
    "train_data, val_data = train_df.randomSplit([0.8, 0.2], seed=42)\n",
    "\n",
    "# Hiển thị kết quả sau khi tiền xử lý\n",
    "train_df.select(\"features\", \"label\").show(5)\n"
   ],
   "id": "10dce1ca24175b2e",
   "outputs": [
    {
     "name": "stdout",
     "output_type": "stream",
     "text": [
      "+--------------------+-----+\n",
      "|            features|label|\n",
      "+--------------------+-----+\n",
      "|[13.0,460.0,3.0,4...|  0.0|\n",
      "|[25.0,235.0,3.0,2...|  0.0|\n",
      "|[26.0,1142.0,2.0,...|  1.0|\n",
      "|[25.0,562.0,2.0,5...|  0.0|\n",
      "|[61.0,214.0,3.0,3...|  1.0|\n",
      "+--------------------+-----+\n",
      "only showing top 5 rows\n",
      "\n"
     ]
    }
   ],
   "execution_count": 4
  },
  {
   "metadata": {
    "ExecuteTime": {
     "end_time": "2024-11-07T12:23:03.975897Z",
     "start_time": "2024-11-07T12:21:21.273681Z"
    }
   },
   "cell_type": "code",
   "source": [
    "# Khởi tạo và huấn luyện các mô hình\n",
    "# dt = DecisionTreeClassifier(featuresCol=\"features\", labelCol=\"label\",maxDepth=15)\n",
    "# dt_model = dt.fit(train_data)\n",
    "\n",
    "rf = RandomForestClassifier(featuresCol=\"features\", labelCol=\"label\", numTrees=150, maxDepth=15)\n",
    "rf_model = rf.fit(train_data)\n",
    "\n",
    "# gbt = GBTClassifier(featuresCol=\"features\", labelCol=\"label\", maxIter=20, maxDepth=5, stepSize=0.1)\n",
    "# gbt_model = gbt.fit(train_data)\n",
    "\n",
    "\n",
    "\n",
    "# Dự đoán trên tập validation\n",
    "# predictions = dt_model.transform(val_data)\n",
    "# predictions.select(\"features\", \"label\", \"prediction\").show(5)\n",
    "rf_predictions = rf_model.transform(val_data)\n",
    "rf_predictions.select(\"features\", \"label\", \"prediction\").show(5)\n",
    "# gbt_predictions = gbt_model.transform(val_data)\n",
    "# gbt_predictions.select(\"features\", \"label\", \"prediction\").show(5)\n"
   ],
   "id": "73005e3c224b2679",
   "outputs": [
    {
     "name": "stdout",
     "output_type": "stream",
     "text": [
      "+--------------------+-----+----------+\n",
      "|            features|label|prediction|\n",
      "+--------------------+-----+----------+\n",
      "|[27.0,421.0,1.0,2...|  0.0|       0.0|\n",
      "|[47.0,1676.0,4.0,...|  1.0|       1.0|\n",
      "|[48.0,3088.0,4.0,...|  1.0|       1.0|\n",
      "|[23.0,173.0,3.0,0...|  0.0|       0.0|\n",
      "|[24.0,108.0,0.0,0...|  1.0|       1.0|\n",
      "+--------------------+-----+----------+\n",
      "only showing top 5 rows\n",
      "\n"
     ]
    }
   ],
   "execution_count": 5
  },
  {
   "metadata": {
    "ExecuteTime": {
     "end_time": "2024-11-07T12:23:21.306281Z",
     "start_time": "2024-11-07T12:23:04.013507Z"
    }
   },
   "cell_type": "code",
   "source": [
    "from pyspark.ml.evaluation import MulticlassClassificationEvaluator\n",
    "\n",
    "# Khởi tạo evaluator với các tham số khác nhau\n",
    "evaluator_accuracy = MulticlassClassificationEvaluator(labelCol=\"label\", predictionCol=\"prediction\", metricName=\"accuracy\")\n",
    "evaluator_precision = MulticlassClassificationEvaluator(labelCol=\"label\", predictionCol=\"prediction\", metricName=\"weightedPrecision\")\n",
    "evaluator_recall = MulticlassClassificationEvaluator(labelCol=\"label\", predictionCol=\"prediction\", metricName=\"weightedRecall\")\n",
    "evaluator_f1 = MulticlassClassificationEvaluator(labelCol=\"label\", predictionCol=\"prediction\", metricName=\"f1\")\n",
    "\n",
    "# Đánh giá các chỉ số cho mô hình Decision Tree\n",
    "# dt_accuracy = evaluator_accuracy.evaluate(predictions)\n",
    "# dt_precision = evaluator_precision.evaluate(predictions)\n",
    "# dt_recall = evaluator_recall.evaluate(predictions)\n",
    "# dt_f1 = evaluator_f1.evaluate(predictions)\n",
    "# \n",
    "# print(f\"Decision Tree Accuracy: {dt_accuracy}\")\n",
    "# print(f\"Decision Tree Precision: {dt_precision}\")\n",
    "# print(f\"Decision Tree Recall: {dt_recall}\")\n",
    "# print(f\"Decision Tree F1 Score: {dt_f1}\")\n",
    "\n",
    "\n",
    "\n",
    "\n",
    "# Đánh giá các chỉ số cho Random Forest (nếu cần)\n",
    "rf_accuracy = evaluator_accuracy.evaluate(rf_predictions)\n",
    "rf_precision = evaluator_precision.evaluate(rf_predictions)\n",
    "rf_recall = evaluator_recall.evaluate(rf_predictions)\n",
    "rf_f1 = evaluator_f1.evaluate(rf_predictions)\n",
    "\n",
    "print(f\"Random Forest Accuracy: {rf_accuracy}\")\n",
    "print(f\"Random Forest Precision: {rf_precision}\")\n",
    "print(f\"Random Forest Recall: {rf_recall}\")\n",
    "print(f\"Random Forest F1 Score: {rf_f1}\")\n",
    "\n",
    "# Đánh giá các chỉ số cho Gradient Boosted Tree (nếu cần)\n",
    "# gbt_accuracy = evaluator_accuracy.evaluate(gbt_predictions)\n",
    "# gbt_precision = evaluator_precision.evaluate(gbt_predictions)\n",
    "# gbt_recall = evaluator_recall.evaluate(gbt_predictions)\n",
    "# gbt_f1 = evaluator_f1.evaluate(gbt_predictions)\n",
    "# \n",
    "# print(f\"Gradient Boosted Tree Accuracy: {gbt_accuracy}\")\n",
    "# print(f\"Gradient Boosted Tree Precision: {gbt_precision}\")\n",
    "# print(f\"Gradient Boosted Tree Recall: {gbt_recall}\")\n",
    "# print(f\"Gradient Boosted Tree F1 Score: {gbt_f1}\")\n"
   ],
   "id": "47241418b070b2d9",
   "outputs": [
    {
     "name": "stdout",
     "output_type": "stream",
     "text": [
      "Random Forest Accuracy: 0.9606861696957916\n",
      "Random Forest Precision: 0.9608028940880025\n",
      "Random Forest Recall: 0.9606861696957917\n",
      "Random Forest F1 Score: 0.9606183636171961\n"
     ]
    }
   ],
   "execution_count": 6
  },
  {
   "metadata": {},
   "cell_type": "markdown",
   "source": "",
   "id": "53696baea309ce49"
  },
  {
   "metadata": {
    "ExecuteTime": {
     "end_time": "2024-11-07T12:23:21.386418Z",
     "start_time": "2024-11-07T12:23:21.316600Z"
    }
   },
   "cell_type": "code",
   "source": [
    "# Decision Tree Feature Importance\n",
    "rf_feature_importance = rf_model.featureImportances\n",
    "print(\"RF Feature Importances::\")\n",
    "for feature, importance in zip(feature_columns, rf_feature_importance):\n",
    "    print(f\"{feature}: {importance}\")\n"
   ],
   "id": "530a03ab23e3b95e",
   "outputs": [
    {
     "name": "stdout",
     "output_type": "stream",
     "text": [
      "RF Feature Importances::\n",
      "Age: 0.021609152457023408\n",
      "Flight Distance: 0.019788950240227806\n",
      "Inflight wifi service: 0.15192206261007707\n",
      "Departure/Arrival time convenient: 0.010472722481763615\n",
      "Ease of Online booking: 0.036346568538793894\n",
      "Gate location: 0.010521217006041557\n",
      "Food and drink: 0.008976829630579095\n",
      "Online boarding: 0.2262816890741332\n",
      "Seat comfort: 0.046526996582901235\n",
      "Inflight entertainment: 0.05835812617868721\n",
      "On-board service: 0.026558173958785812\n",
      "Leg room service: 0.03246666131651929\n",
      "Baggage handling: 0.02043205817729557\n",
      "Checkin service: 0.019138710466751217\n",
      "Inflight service: 0.02033539486456418\n",
      "Cleanliness: 0.019838119528695783\n",
      "Departure Delay in Minutes: 0.005569149592915699\n",
      "Arrival Delay in Minutes: 0.007122243945039225\n",
      "Gender_index: 0.0025944932616326463\n",
      "Customer Type_index: 0.0421501555580666\n",
      "Type of Travel_index: 0.11441645318863294\n",
      "Class_index: 0.09857407134087294\n"
     ]
    }
   ],
   "execution_count": 7
  },
  {
   "metadata": {
    "ExecuteTime": {
     "end_time": "2024-11-07T12:23:21.626759Z",
     "start_time": "2024-11-07T12:23:21.396083Z"
    }
   },
   "cell_type": "code",
   "source": [
    "# Dự đoán trên tập test (sử dụng mô hình Random Forest)\n",
    "test_predictions = rf_model.transform(test_df)\n",
    "test_predictions.select(\"features\",\"label\", \"prediction\").show(10)"
   ],
   "id": "33422d25c391728c",
   "outputs": [
    {
     "ename": "NameError",
     "evalue": "name 'dt_model' is not defined",
     "output_type": "error",
     "traceback": [
      "\u001B[1;31m---------------------------------------------------------------------------\u001B[0m",
      "\u001B[1;31mNameError\u001B[0m                                 Traceback (most recent call last)",
      "Cell \u001B[1;32mIn[8], line 2\u001B[0m\n\u001B[0;32m      1\u001B[0m \u001B[38;5;66;03m# Dự đoán trên tập test (sử dụng mô hình Random Forest)\u001B[39;00m\n\u001B[1;32m----> 2\u001B[0m test_predictions \u001B[38;5;241m=\u001B[39m \u001B[43mdt_model\u001B[49m\u001B[38;5;241m.\u001B[39mtransform(test_df)\n\u001B[0;32m      3\u001B[0m test_predictions\u001B[38;5;241m.\u001B[39mselect(\u001B[38;5;124m\"\u001B[39m\u001B[38;5;124mfeatures\u001B[39m\u001B[38;5;124m\"\u001B[39m,\u001B[38;5;124m\"\u001B[39m\u001B[38;5;124mlabel\u001B[39m\u001B[38;5;124m\"\u001B[39m, \u001B[38;5;124m\"\u001B[39m\u001B[38;5;124mprediction\u001B[39m\u001B[38;5;124m\"\u001B[39m)\u001B[38;5;241m.\u001B[39mshow(\u001B[38;5;241m10\u001B[39m)\n",
      "\u001B[1;31mNameError\u001B[0m: name 'dt_model' is not defined"
     ]
    }
   ],
   "execution_count": 8
  },
  {
   "metadata": {
    "ExecuteTime": {
     "end_time": "2024-11-07T12:25:56.237432Z",
     "start_time": "2024-11-07T12:25:52.586427Z"
    }
   },
   "cell_type": "code",
   "source": [
    "# Lưu mô hình vào HDFS thư mục /thanhtin\n",
    "rf_model.save(\"hdfs://localhost:9000/thanhtin/rf_model\")\n"
   ],
   "id": "8868c12191982b39",
   "outputs": [],
   "execution_count": 9
  },
  {
   "metadata": {
    "ExecuteTime": {
     "end_time": "2024-11-07T12:26:01.265462Z",
     "start_time": "2024-11-07T12:26:00.792253Z"
    }
   },
   "cell_type": "code",
   "source": "spark.stop()",
   "id": "b8a58c17b8f41f9c",
   "outputs": [],
   "execution_count": 10
  }
 ],
 "metadata": {
  "kernelspec": {
   "display_name": "Python 3",
   "language": "python",
   "name": "python3"
  },
  "language_info": {
   "codemirror_mode": {
    "name": "ipython",
    "version": 2
   },
   "file_extension": ".py",
   "mimetype": "text/x-python",
   "name": "python",
   "nbconvert_exporter": "python",
   "pygments_lexer": "ipython2",
   "version": "2.7.6"
  }
 },
 "nbformat": 4,
 "nbformat_minor": 5
}
