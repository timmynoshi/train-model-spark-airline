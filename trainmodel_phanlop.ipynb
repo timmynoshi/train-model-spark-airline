{
 "cells": [
  {
   "cell_type": "code",
   "id": "initial_id",
   "metadata": {
    "collapsed": true,
    "ExecuteTime": {
     "end_time": "2024-11-06T18:03:37.176639Z",
     "start_time": "2024-11-06T18:03:36.681865Z"
    }
   },
   "source": [
    "# Import các thư viện cần thiết\n",
    "from pyspark.sql import SparkSession\n",
    "from pyspark.ml.feature import StringIndexer, VectorAssembler\n",
    "from pyspark.ml.classification import (DecisionTreeClassifier,\n",
    "                                       RandomForestClassifier, \n",
    "                                       GBTClassifier,\n",
    "                                       MultilayerPerceptronClassifier)\n",
    "from pyspark.ml.evaluation import MulticlassClassificationEvaluator\n",
    "from hdfs import InsecureClient"
   ],
   "outputs": [],
   "execution_count": 1
  },
  {
   "metadata": {
    "ExecuteTime": {
     "end_time": "2024-11-06T18:03:43.338960Z",
     "start_time": "2024-11-06T18:03:39.972003Z"
    }
   },
   "cell_type": "code",
   "source": [
    "# Kết nối với HDFS và tạo Spark Session\n",
    "client = InsecureClient('http://localhost:9870', user='thanhtin')\n",
    "spark = (SparkSession.builder.appName(\"trainmodel_phanlop\")\n",
    "         .config(\"spark.hadoop.fs.defaultFS\", \"hdfs://localhost:9000\")\n",
    "         .getOrCreate())"
   ],
   "id": "b048566a0f855976",
   "outputs": [],
   "execution_count": 2
  },
  {
   "metadata": {
    "ExecuteTime": {
     "end_time": "2024-11-06T18:03:49.596189Z",
     "start_time": "2024-11-06T18:03:43.976697Z"
    }
   },
   "cell_type": "code",
   "source": [
    "# Đường dẫn file HDFS\n",
    "train_path = \"hdfs://localhost:9000/thanhtin/train-airline.csv\"\n",
    "test_path = \"hdfs://localhost:9000/thanhtin/test-airline.csv\"\n",
    "\n",
    "# Đọc file train và test từ HDFS vào DataFrame\n",
    "train_df = spark.read.csv(train_path, header=True, inferSchema=True)\n",
    "test_df = spark.read.csv(test_path, header=True, inferSchema=True)\n",
    "\n",
    "# Loại bỏ các giá trị null nếu có\n",
    "train_df = train_df.na.drop()\n",
    "test_df = test_df.na.drop()\n",
    "\n",
    "# Hiển thị một vài dòng dữ liệu để kiểm tra\n",
    "train_df.show(5)\n",
    "test_df.show(5)\n"
   ],
   "id": "49936d361eea4498",
   "outputs": [
    {
     "name": "stdout",
     "output_type": "stream",
     "text": [
      "+------+------+-----------------+---+---------------+--------+---------------+---------------------+---------------------------------+----------------------+-------------+--------------+---------------+------------+----------------------+----------------+----------------+----------------+---------------+----------------+-----------+--------------------------+------------------------+--------------------+\n",
      "|    id|Gender|    Customer Type|Age| Type of Travel|   Class|Flight Distance|Inflight wifi service|Departure/Arrival time convenient|Ease of Online booking|Gate location|Food and drink|Online boarding|Seat comfort|Inflight entertainment|On-board service|Leg room service|Baggage handling|Checkin service|Inflight service|Cleanliness|Departure Delay in Minutes|Arrival Delay in Minutes|        satisfaction|\n",
      "+------+------+-----------------+---+---------------+--------+---------------+---------------------+---------------------------------+----------------------+-------------+--------------+---------------+------------+----------------------+----------------+----------------+----------------+---------------+----------------+-----------+--------------------------+------------------------+--------------------+\n",
      "| 70172|  Male|   Loyal Customer| 13|Personal Travel|Eco Plus|            460|                    3|                                4|                     3|            1|             5|              3|           5|                     5|               4|               3|               4|              4|               5|          5|                        25|                      18|neutral or dissat...|\n",
      "|  5047|  Male|disloyal Customer| 25|Business travel|Business|            235|                    3|                                2|                     3|            3|             1|              3|           1|                     1|               1|               5|               3|              1|               4|          1|                         1|                       6|neutral or dissat...|\n",
      "|110028|Female|   Loyal Customer| 26|Business travel|Business|           1142|                    2|                                2|                     2|            2|             5|              5|           5|                     5|               4|               3|               4|              4|               4|          5|                         0|                       0|           satisfied|\n",
      "| 24026|Female|   Loyal Customer| 25|Business travel|Business|            562|                    2|                                5|                     5|            5|             2|              2|           2|                     2|               2|               5|               3|              1|               4|          2|                        11|                       9|neutral or dissat...|\n",
      "|119299|  Male|   Loyal Customer| 61|Business travel|Business|            214|                    3|                                3|                     3|            3|             4|              5|           5|                     3|               3|               4|               4|              3|               3|          3|                         0|                       0|           satisfied|\n",
      "+------+------+-----------------+---+---------------+--------+---------------+---------------------+---------------------------------+----------------------+-------------+--------------+---------------+------------+----------------------+----------------+----------------+----------------+---------------+----------------+-----------+--------------------------+------------------------+--------------------+\n",
      "only showing top 5 rows\n",
      "\n",
      "+-----+------+-----------------+---+---------------+--------+---------------+---------------------+---------------------------------+----------------------+-------------+--------------+---------------+------------+----------------------+----------------+----------------+----------------+---------------+----------------+-----------+--------------------------+------------------------+--------------------+\n",
      "|   id|Gender|    Customer Type|Age| Type of Travel|   Class|Flight Distance|Inflight wifi service|Departure/Arrival time convenient|Ease of Online booking|Gate location|Food and drink|Online boarding|Seat comfort|Inflight entertainment|On-board service|Leg room service|Baggage handling|Checkin service|Inflight service|Cleanliness|Departure Delay in Minutes|Arrival Delay in Minutes|        satisfaction|\n",
      "+-----+------+-----------------+---+---------------+--------+---------------+---------------------+---------------------------------+----------------------+-------------+--------------+---------------+------------+----------------------+----------------+----------------+----------------+---------------+----------------+-----------+--------------------------+------------------------+--------------------+\n",
      "|19556|Female|   Loyal Customer| 52|Business travel|     Eco|            160|                    5|                                4|                     3|            4|             3|              4|           3|                     5|               5|               5|               5|              2|               5|          5|                        50|                      44|           satisfied|\n",
      "|90035|Female|   Loyal Customer| 36|Business travel|Business|           2863|                    1|                                1|                     3|            1|             5|              4|           5|                     4|               4|               4|               4|              3|               4|          5|                         0|                       0|           satisfied|\n",
      "|12360|  Male|disloyal Customer| 20|Business travel|     Eco|            192|                    2|                                0|                     2|            4|             2|              2|           2|                     2|               4|               1|               3|              2|               2|          2|                         0|                       0|neutral or dissat...|\n",
      "|77959|  Male|   Loyal Customer| 44|Business travel|Business|           3377|                    0|                                0|                     0|            2|             3|              4|           4|                     1|               1|               1|               1|              3|               1|          4|                         0|                       6|           satisfied|\n",
      "|36875|Female|   Loyal Customer| 49|Business travel|     Eco|           1182|                    2|                                3|                     4|            3|             4|              1|           2|                     2|               2|               2|               2|              4|               2|          4|                         0|                      20|           satisfied|\n",
      "+-----+------+-----------------+---+---------------+--------+---------------+---------------------+---------------------------------+----------------------+-------------+--------------+---------------+------------+----------------------+----------------+----------------+----------------+---------------+----------------+-----------+--------------------------+------------------------+--------------------+\n",
      "only showing top 5 rows\n",
      "\n"
     ]
    }
   ],
   "execution_count": 3
  },
  {
   "metadata": {
    "ExecuteTime": {
     "end_time": "2024-11-06T18:03:52.274070Z",
     "start_time": "2024-11-06T18:03:49.614011Z"
    }
   },
   "cell_type": "code",
   "source": [
    "# Mã hóa các cột chuỗi thành dạng số bằng StringIndexer\n",
    "indexers = [\n",
    "    StringIndexer(inputCol=column, outputCol=column + \"_index\").fit(train_df)\n",
    "    for column in [\"Gender\", \"Customer Type\", \"Type of Travel\", \"Class\"]\n",
    "]\n",
    "\n",
    "for indexer in indexers:\n",
    "    train_df = indexer.transform(train_df)\n",
    "    test_df = indexer.transform(test_df)\n",
    "\n",
    "# Cập nhật danh sách các cột đặc trưng sau khi thêm các cột đã được mã hóa\n",
    "feature_columns = [\"Age\", \"Flight Distance\", \"Inflight wifi service\", \"Departure/Arrival time convenient\",\n",
    "                   \"Ease of Online booking\", \"Gate location\", \"Food and drink\", \"Online boarding\", \n",
    "                   \"Seat comfort\", \"Inflight entertainment\", \"On-board service\", \"Leg room service\", \n",
    "                   \"Baggage handling\", \"Checkin service\", \"Inflight service\", \"Cleanliness\", \n",
    "                   \"Departure Delay in Minutes\", \"Arrival Delay in Minutes\", \n",
    "                   \"Gender_index\", \"Customer Type_index\", \"Type of Travel_index\", \"Class_index\"]\n",
    "\n",
    "# Tạo cột 'features' với VectorAssembler\n",
    "assembler = VectorAssembler(inputCols=feature_columns, outputCol=\"features\")\n",
    "train_df = assembler.transform(train_df)\n",
    "test_df = assembler.transform(test_df)\n",
    "\n",
    "# Chuyển cột 'satisfaction' thành nhãn số (label) chỉ trên tập train, sau đó dùng lại cho test\n",
    "satisfaction_indexer = StringIndexer(inputCol=\"satisfaction\", outputCol=\"label\").fit(train_df)\n",
    "train_df = satisfaction_indexer.transform(train_df)\n",
    "test_df = satisfaction_indexer.transform(test_df)\n",
    "\n",
    "# Chia dữ liệu train thành tập train và tập validation\n",
    "train_data, val_data = train_df.randomSplit([0.8, 0.2], seed=42)\n",
    "\n",
    "# Hiển thị kết quả sau khi tiền xử lý\n",
    "train_df.select(\"features\", \"label\").show(5)\n"
   ],
   "id": "10dce1ca24175b2e",
   "outputs": [
    {
     "name": "stdout",
     "output_type": "stream",
     "text": [
      "+--------------------+-----+\n",
      "|            features|label|\n",
      "+--------------------+-----+\n",
      "|[13.0,460.0,3.0,4...|  0.0|\n",
      "|[25.0,235.0,3.0,2...|  0.0|\n",
      "|[26.0,1142.0,2.0,...|  1.0|\n",
      "|[25.0,562.0,2.0,5...|  0.0|\n",
      "|[61.0,214.0,3.0,3...|  1.0|\n",
      "+--------------------+-----+\n",
      "only showing top 5 rows\n",
      "\n"
     ]
    }
   ],
   "execution_count": 4
  },
  {
   "metadata": {
    "jupyter": {
     "is_executing": true
    },
    "ExecuteTime": {
     "start_time": "2024-11-06T18:03:53.873273Z"
    }
   },
   "cell_type": "code",
   "source": [
    "# Khởi tạo và huấn luyện các mô hình\n",
    "dt = DecisionTreeClassifier(featuresCol=\"features\", labelCol=\"label\")\n",
    "dt_model = dt.fit(train_data)\n",
    "\n",
    "# rf = RandomForestClassifier(featuresCol=\"features\", labelCol=\"label\", numTrees=150, maxDepth=15)\n",
    "# rf_model = rf.fit(train_data)\n",
    "\n",
    "# gbt = GBTClassifier(featuresCol=\"features\", labelCol=\"label\", maxIter=15)\n",
    "# gbt_model = gbt.fit(train_data)\n",
    "\n",
    "\n",
    "\n",
    "# Dự đoán trên tập validation\n",
    "predictions = dt_model.transform(val_data)\n",
    "predictions.select(\"features\", \"label\", \"prediction\").show(5)\n",
    "# rf_predictions = rf_model.transform(val_data)\n",
    "# rf_predictions.select(\"features\", \"label\", \"prediction\").show(5)\n",
    "# gbt_predictions = gbt_model.transform(val_data)\n",
    "# gbt_predictions.select(\"features\", \"label\", \"prediction\").show(5)\n"
   ],
   "id": "73005e3c224b2679",
   "outputs": [],
   "execution_count": null
  },
  {
   "metadata": {
    "ExecuteTime": {
     "end_time": "2024-11-06T17:59:48.742835100Z",
     "start_time": "2024-11-06T17:44:28.488697Z"
    }
   },
   "cell_type": "code",
   "source": [
    "# Đánh giá mô hình bằng độ chính xác\n",
    "# Đánh giá độ chính xác của từng mô hình\n",
    "evaluator = MulticlassClassificationEvaluator(labelCol=\"label\", predictionCol=\"prediction\", metricName=\"accuracy\")\n",
    "dt_accuracy = evaluator.evaluate(predictions)\n",
    "# rf_accuracy = evaluator.evaluate(rf_predictions)\n",
    "# gbt_accuracy = evaluator.evaluate(gbt_predictions)\n",
    "\n",
    "# print(f\"Decision Tree Accuracy: {dt_accuracy}\")\n",
    "print(f\"Random Forest Accuracy: {dt_accuracy}\")\n",
    "# print(f\"Gradient Boosted Tree Accuracy: {gbt_accuracy}\")"
   ],
   "id": "47241418b070b2d9",
   "outputs": [
    {
     "name": "stdout",
     "output_type": "stream",
     "text": [
      "Random Forest Accuracy: 0.9466420449023228\n"
     ]
    }
   ],
   "execution_count": 6
  },
  {
   "metadata": {
    "ExecuteTime": {
     "end_time": "2024-11-06T17:59:48.742835100Z",
     "start_time": "2024-11-06T17:55:07.829793Z"
    }
   },
   "cell_type": "code",
   "source": [
    "# Dự đoán trên tập test (sử dụng mô hình Random Forest)\n",
    "test_predictions = rf_model.transform(test_df)\n",
    "test_predictions.select(\"features\",\"label\", \"prediction\").show(10)"
   ],
   "id": "33422d25c391728c",
   "outputs": [
    {
     "name": "stdout",
     "output_type": "stream",
     "text": [
      "+--------------------+-----+----------+\n",
      "|            features|label|prediction|\n",
      "+--------------------+-----+----------+\n",
      "|[52.0,160.0,5.0,4...|  1.0|       1.0|\n",
      "|[36.0,2863.0,1.0,...|  1.0|       1.0|\n",
      "|[20.0,192.0,2.0,0...|  0.0|       0.0|\n",
      "|[44.0,3377.0,0.0,...|  1.0|       1.0|\n",
      "|[49.0,1182.0,2.0,...|  1.0|       0.0|\n",
      "|[16.0,311.0,3.0,3...|  1.0|       1.0|\n",
      "|[77.0,3987.0,5.0,...|  1.0|       1.0|\n",
      "|[43.0,2556.0,2.0,...|  1.0|       1.0|\n",
      "|[47.0,556.0,5.0,2...|  1.0|       1.0|\n",
      "|[46.0,1744.0,2.0,...|  1.0|       1.0|\n",
      "+--------------------+-----+----------+\n",
      "only showing top 10 rows\n",
      "\n"
     ]
    }
   ],
   "execution_count": 14
  },
  {
   "metadata": {
    "ExecuteTime": {
     "end_time": "2024-11-06T17:59:48.742835100Z",
     "start_time": "2024-11-06T17:50:14.174294Z"
    }
   },
   "cell_type": "code",
   "source": [
    "# Lưu mô hình vào HDFS thư mục /thanhtin\n",
    "rf_model.save(\"hdfs://localhost:9000/thanhtin/rf_model\")\n"
   ],
   "id": "8868c12191982b39",
   "outputs": [],
   "execution_count": 13
  },
  {
   "metadata": {
    "ExecuteTime": {
     "end_time": "2024-11-06T18:05:35.593109Z",
     "start_time": "2024-11-06T18:05:35.406506Z"
    }
   },
   "cell_type": "code",
   "source": "spark.stop()",
   "id": "b8a58c17b8f41f9c",
   "outputs": [
    {
     "ename": "NameError",
     "evalue": "name 'spark' is not defined",
     "output_type": "error",
     "traceback": [
      "\u001B[1;31m---------------------------------------------------------------------------\u001B[0m",
      "\u001B[1;31mNameError\u001B[0m                                 Traceback (most recent call last)",
      "Cell \u001B[1;32mIn[1], line 1\u001B[0m\n\u001B[1;32m----> 1\u001B[0m \u001B[43mspark\u001B[49m\u001B[38;5;241m.\u001B[39mstop()\n",
      "\u001B[1;31mNameError\u001B[0m: name 'spark' is not defined"
     ]
    }
   ],
   "execution_count": 1
  }
 ],
 "metadata": {
  "kernelspec": {
   "display_name": "Python 3",
   "language": "python",
   "name": "python3"
  },
  "language_info": {
   "codemirror_mode": {
    "name": "ipython",
    "version": 2
   },
   "file_extension": ".py",
   "mimetype": "text/x-python",
   "name": "python",
   "nbconvert_exporter": "python",
   "pygments_lexer": "ipython2",
   "version": "2.7.6"
  }
 },
 "nbformat": 4,
 "nbformat_minor": 5
}
